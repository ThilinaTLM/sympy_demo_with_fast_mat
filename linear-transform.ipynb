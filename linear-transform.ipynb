{
 "cells": [
  {
   "source": [
    "# Initialization"
   ],
   "cell_type": "markdown",
   "metadata": {}
  },
  {
   "cell_type": "code",
   "execution_count": 2,
   "id": "9070e01b-3a14-42e4-9b6c-8c10e7fd72b8",
   "metadata": {},
   "outputs": [],
   "source": [
    "%config IPCompleter.use_jedi = False\n",
    "\n",
    "from sympy import *\n",
    "from sympy.abc import a,b,c,x,y,s,t\n",
    "from sympy.parsing.latex import parse_latex\n",
    "from re import split, match, sub\n",
    "\n",
    "def fast_mat(text):\n",
    "    lines = filter(lambda l: len(l.strip()) > 0, text.split('\\n'))\n",
    "    rows = list(map(lambda l: list(map(parse_latex, l.strip().split())), lines))\n",
    "    return rows\n",
    "\n",
    "\n",
    "def fast_row_operation(mat, globals = {}):\n",
    "    clone = mat.copy()\n",
    "    while True:\n",
    "        inp = input(\"OP$ \").replace(' ', '')\n",
    "        if inp == \"\":\n",
    "            break\n",
    "        if match(r\"\\d=.+\", inp):\n",
    "            row = int(inp[0])-1\n",
    "            _, op = inp.split('=')\n",
    "            clone.row_op(\n",
    "                row, \n",
    "                lambda v,i: eval(sub(r'r(\\d)', r'm[\\1-1, i]', op), globals, {'m': clone, 'i': i, 'v': v})\n",
    "            )\n",
    "            pprint(clone)\n",
    "        elif match(r\"\\d,\\d\", inp):\n",
    "            r1, r2 = map(int, inp.split(','))\n",
    "            clone.row_swap(r1-1, r2-1)\n",
    "            pprint(clone)\n",
    "        else:\n",
    "            print(\"Invalid\")\n",
    "            pprint(clone)\n",
    "    return clone\n",
    "\n",
    "init_printing(use_latex=\"mathjax\")"
   ]
  },
  {
   "cell_type": "markdown",
   "id": "6ad4c905-c2ba-45a4-8e6e-d5f787566c16",
   "metadata": {},
   "source": [
    "# Start"
   ]
  },
  {
   "cell_type": "code",
   "execution_count": 10,
   "id": "60b3b0e2-bc4a-445a-9d94-59387379199a",
   "metadata": {},
   "outputs": [
    {
     "output_type": "execute_result",
     "data": {
      "text/plain": [
       "⎡0  1   -1⋅3⎤\n",
       "⎢           ⎥\n",
       "⎢2  3    x  ⎥\n",
       "⎢           ⎥\n",
       "⎣1  -1  -1⋅2⎦"
      ],
      "text/latex": "$\\displaystyle \\left[\\begin{matrix}0 & 1 & \\left(-1\\right) 3\\\\2 & 3 & x\\\\1 & -1 & \\left(-1\\right) 2\\end{matrix}\\right]$"
     },
     "metadata": {},
     "execution_count": 10
    }
   ],
   "source": [
    "mat = Matrix(fast_mat(\"\"\"\n",
    "0 1 -3\n",
    "2 3 x\n",
    "1 -1 -2\n",
    "\"\"\"))\n",
    "mat"
   ]
  }
 ],
 "metadata": {
  "kernelspec": {
   "name": "python3",
   "display_name": "Python 3.9.5 64-bit"
  },
  "language_info": {
   "codemirror_mode": {
    "name": "ipython",
    "version": 3
   },
   "file_extension": ".py",
   "mimetype": "text/x-python",
   "name": "python",
   "nbconvert_exporter": "python",
   "pygments_lexer": "ipython3",
   "version": "3.9.5"
  },
  "toc-autonumbering": false,
  "toc-showcode": true,
  "toc-showmarkdowntxt": true,
  "toc-showtags": false,
  "interpreter": {
   "hash": "e7370f93d1d0cde622a1f8e1c04877d8463912d04d973331ad4851f04de6915a"
  }
 },
 "nbformat": 4,
 "nbformat_minor": 5
}